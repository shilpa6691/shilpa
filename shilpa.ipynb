{
 "cells": [
  {
   "cell_type": "code",
   "execution_count": 1,
   "id": "8ec31580-93f1-4d5a-a13a-8ee75f744532",
   "metadata": {},
   "outputs": [
    {
     "name": "stdout",
     "output_type": "stream",
     "text": [
      "shilpa\n"
     ]
    }
   ],
   "source": [
    "print(\"shilpa\")"
   ]
  },
  {
   "cell_type": "code",
   "execution_count": 1,
   "id": "bd28d8d4-2b13-4fb4-b8ff-c08e343b15c8",
   "metadata": {},
   "outputs": [
    {
     "name": "stdout",
     "output_type": "stream",
     "text": [
      "hai\n"
     ]
    }
   ],
   "source": [
    "print(\"hai\")"
   ]
  },
  {
   "cell_type": "code",
   "execution_count": null,
   "id": "f9a942a9-6613-41e0-be48-044b9ce92cf7",
   "metadata": {},
   "outputs": [],
   "source": []
  }
 ],
 "metadata": {
  "kernelspec": {
   "display_name": "Python 3 (ipykernel)",
   "language": "python",
   "name": "python3"
  },
  "language_info": {
   "codemirror_mode": {
    "name": "ipython",
    "version": 3
   },
   "file_extension": ".py",
   "mimetype": "text/x-python",
   "name": "python",
   "nbconvert_exporter": "python",
   "pygments_lexer": "ipython3",
   "version": "3.11.5"
  }
 },
 "nbformat": 4,
 "nbformat_minor": 5
}
